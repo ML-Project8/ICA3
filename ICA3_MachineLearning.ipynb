{
 "cells": [
  {
   "cell_type": "code",
   "execution_count": 23,
   "metadata": {
    "collapsed": false
   },
   "outputs": [
    {
     "data": {
      "text/html": [
       "<link href='https://fonts.googleapis.com/css?family=Passion+One' rel='stylesheet' type='text/css'><style>div.attn { font-family: 'Helvetica Neue'; font-size: 30px; line-height: 40px; color: #FFFFFF; text-align: center; margin: 30px 0; border-width: 10px 0; border-style: solid; border-color: #5AAAAA; padding: 30px 0; background-color: #DDDDFF; }hr { border: 0; background-color: #ffffff; border-top: 1px solid black; }hr.major { border-top: 10px solid #5AAA5A; }hr.minor { border: none; background-color: #ffffff; border-top: 5px dotted #CC3333; }div.bubble { width: 65%; padding: 20px; background: #DDDDDD; border-radius: 15px; margin: 0 auto; font-style: italic; color: #f00; }em { color: #AAA; }div.c1{visibility:hidden;margin:0;height:0;}div.note{color:red;}</style>"
      ],
      "text/plain": [
       "<IPython.core.display.HTML object>"
      ]
     },
     "execution_count": 23,
     "metadata": {},
     "output_type": "execute_result"
    }
   ],
   "source": [
    "#  Ebnable HTML/CSS \n",
    "from IPython.core.display import HTML\n",
    "HTML(\"<link href='https://fonts.googleapis.com/css?family=Passion+One' rel='stylesheet' type='text/css'><style>div.attn { font-family: 'Helvetica Neue'; font-size: 30px; line-height: 40px; color: #FFFFFF; text-align: center; margin: 30px 0; border-width: 10px 0; border-style: solid; border-color: #5AAAAA; padding: 30px 0; background-color: #DDDDFF; }hr { border: 0; background-color: #ffffff; border-top: 1px solid black; }hr.major { border-top: 10px solid #5AAA5A; }hr.minor { border: none; background-color: #ffffff; border-top: 5px dotted #CC3333; }div.bubble { width: 65%; padding: 20px; background: #DDDDDD; border-radius: 15px; margin: 0 auto; font-style: italic; color: #f00; }em { color: #AAA; }div.c1{visibility:hidden;margin:0;height:0;}div.note{color:red;}</style>\")"
   ]
  },
  {
   "cell_type": "markdown",
   "metadata": {},
   "source": [
    "___\n",
    "Team Member Names:\n",
    "\n",
    "- Name 1: Austin Chen\n",
    "- Name 2: Luke Hansen\n",
    "- Name 3: Oscar Vallner\n",
    "\n",
    "___"
   ]
  },
  {
   "cell_type": "markdown",
   "metadata": {},
   "source": [
    "# In Class Assignment Three\n",
    "In the following assignment you will be asked to fill in python code and derivations for a number of different problems. Please read all instructions carefully and turn in the rendered notebook (or HTML of the rendered notebook)  before the end of class (or right after class). The initial portion of this notebook is given before class and the remainder is given during class. Please answer the initial questions before class, to the best of your ability. Once class has started you may rework your answers as a team for the initial part of the assignment. \n",
    "\n",
    "<a id=\"top\"></a>\n",
    "## Contents\n",
    "* <a href=\"#LoadingKDD\">Loading KDDCup Data</a>\n",
    "* <a href=\"#kdd_eval\">KDDCup Evaluation and Cross Validation</a>\n",
    "* <a href=\"#data_snooping\">More Cross Validation</a>\n",
    "* <a href=\"#stats\">Statistical Comparison</a>\n",
    "\n",
    "**Before coming to class**, please make sure you have the latest version of `scikit-learn`. This notebook was created for version 0.18 and higher. \n",
    "\n",
    "________________________________________________________________________________________________________\n",
    "\n",
    "<a id=\"LoadingKDD\"></a>\n",
    "<a href=\"#top\">Back to Top</a>\n",
    "## Loading KDDCup Data\n",
    "\n",
    "Please run the following code to read in the \"KDD Cup\" dataset from sklearn's data loading module. It consists of examples of different simulated attacks for the 1998 DARPA Intrusion Detection System (IDS). \n",
    "\n",
    "This will load the data into the variable `ds`. `ds` is a `bunch` object with fields like `ds.data` and `ds.target`. The field `ds.data` is a numpy matrix of the continuous features in the dataset. **The object is not a pandas dataframe. It is a numpy matrix.** Each row is a set of observed instances, each column is a different feature. It also has a field called `ds.target` that is an integer value we are trying to predict (i.e., a specific integer represents a specific person). Each entry in `ds.target` is a label for each row of the `ds.data` matrix. "
   ]
  },
  {
   "cell_type": "code",
   "execution_count": 24,
   "metadata": {
    "collapsed": false
   },
   "outputs": [
    {
     "name": "stdout",
     "output_type": "stream",
     "text": [
      "Sklearn Version: 0.18.1\n"
     ]
    }
   ],
   "source": [
    "# fetch the dataset\n",
    "from sklearn.datasets import  fetch_kddcup99\n",
    "from sklearn import __version__ as sklearn_version\n",
    "\n",
    "print('Sklearn Version:',sklearn_version)\n",
    "ds =  fetch_kddcup99(subset='http')"
   ]
  },
  {
   "cell_type": "code",
   "execution_count": 25,
   "metadata": {
    "collapsed": false
   },
   "outputs": [
    {
     "name": "stdout",
     "output_type": "stream",
     "text": [
      "n_samples: 58725\n",
      "n_features: 3\n",
      "n_classes: 2\n"
     ]
    }
   ],
   "source": [
    "import numpy as np\n",
    "# get some of the specifics of the dataset\n",
    "X = ds.data\n",
    "y = ds.target != b'normal.'\n",
    "\n",
    "n_samples, n_features = X.shape\n",
    "n_classes = len(np.unique(y))\n",
    "\n",
    "print(\"n_samples: {}\".format(n_samples))\n",
    "print(\"n_features: {}\".format(n_features))\n",
    "print(\"n_classes: {}\".format(n_classes))"
   ]
  },
  {
   "cell_type": "markdown",
   "metadata": {},
   "source": [
    "___\n",
    "**Question 1:** How many instances are in the binary classification problem loaded above? How many instances are in each class? **Plot a pie chart or bar chart of the number of classes.**"
   ]
  },
  {
   "cell_type": "code",
   "execution_count": 26,
   "metadata": {
    "collapsed": false
   },
   "outputs": [
    {
     "name": "stdout",
     "output_type": "stream",
     "text": [
      "Number of instances in each class:\n",
      "False : 56516\n",
      "True : 2209\n"
     ]
    },
    {
     "data": {
      "image/png": "[encoded data removed]",
      "text/plain": [
       "<matplotlib.figure.Figure at 0x11bc507b8>"
      ]
     },
     "metadata": {},
     "output_type": "display_data"
    }
   ],
   "source": [
    "from matplotlib import pyplot as plt\n",
    "%matplotlib inline\n",
    "plt.style.use('ggplot')\n",
    "\n",
    "#=== Fill in code below========\n",
    "\n",
    "unique_items, counts = np.unique(y, return_counts=True)\n",
    "\n",
    "print('Number of instances in each class:')\n",
    "\n",
    "for index, item in enumerate(unique_items):\n",
    "    print(item,\":\", counts[index])\n",
    "\n",
    "objects = ('False', 'True')\n",
    "y_pos = np.arange(len(objects))\n",
    "performance = counts\n",
    " \n",
    "plt.barh(y_pos, performance, align='center', alpha=0.5)\n",
    "plt.yticks(y_pos, objects)\n",
    "plt.xlabel('Frequency')\n",
    "plt.title('Class Frequencies for KDDCup Dataset')\n",
    " \n",
    "plt.show()"
   ]
  },
  {
   "cell_type": "code",
   "execution_count": 27,
   "metadata": {
    "collapsed": false
   },
   "outputs": [
    {
     "data": {
      "image/png": "[encoded data removed]",
      "text/plain": [
       "<matplotlib.figure.Figure at 0x120be1550>"
      ]
     },
     "metadata": {},
     "output_type": "display_data"
    }
   ],
   "source": [
    "labels = 'False', 'True'\n",
    "colors = ['gold', 'lightskyblue']\n",
    " \n",
    "# Plot\n",
    "plt.pie(counts, labels=labels, colors=colors,\n",
    "        autopct='%1.1f%%', shadow=True, startangle=140)\n",
    " \n",
    "plt.axis('equal')\n",
    "plt.show()"
   ]
  },
  {
   "cell_type": "markdown",
   "metadata": {},
   "source": [
    "<a id=\"kdd_eval\"></a>\n",
    "<a href=\"#top\">Back to Top</a>\n",
    "## KDDCup Evaluation and Cross Validation"
   ]
  },
  {
   "cell_type": "code",
   "execution_count": 28,
   "metadata": {
    "collapsed": false
   },
   "outputs": [
    {
     "data": {
      "text/plain": [
       "(0.9888079019073569, 1.0)"
      ]
     },
     "execution_count": 28,
     "metadata": {},
     "output_type": "execute_result"
    },
    {
     "data": {
      "image/png": "[encoded data removed]",
      "text/plain": [
       "<matplotlib.figure.Figure at 0x120be1588>"
      ]
     },
     "metadata": {},
     "output_type": "display_data"
    }
   ],
   "source": [
    "from sklearn.model_selection import cross_val_score\n",
    "from sklearn.model_selection import KFold, ShuffleSplit\n",
    "from sklearn.model_selection import StratifiedKFold, StratifiedShuffleSplit\n",
    "\n",
    "from sklearn.metrics import make_scorer, accuracy_score\n",
    "from sklearn.metrics import precision_score, recall_score, f1_score\n",
    "\n",
    "from sklearn.linear_model import LogisticRegression\n",
    "\n",
    "# select model\n",
    "clf = LogisticRegression()\n",
    "#select cross validation\n",
    "cv = KFold(n_splits=10)\n",
    "# select evaluation criteria\n",
    "my_scorer = make_scorer(accuracy_score)\n",
    "# run model training and cross validation\n",
    "per_fold_eval_criteria = cross_val_score(estimator=clf,\n",
    "                                    X=X,\n",
    "                                    y=y,\n",
    "                                    cv=cv,\n",
    "                                    scoring=my_scorer\n",
    "                                   )\n",
    "plt.bar(range(len(per_fold_eval_criteria)),per_fold_eval_criteria)\n",
    "plt.ylim([min(per_fold_eval_criteria)-0.01,max(per_fold_eval_criteria)])"
   ]
  },
  {
   "cell_type": "markdown",
   "metadata": {},
   "source": [
    "____\n",
    "**Question 2** Is the code above a proper separation of training and testing sets for the given dataset? Why or why not?"
   ]
  },
  {
   "cell_type": "markdown",
   "metadata": {},
   "source": [
    "*Answer:*\n",
    "\n",
    "No. With the dataset, 96% of the instances are of one class, and 3.8% of the dataset is the other dataset. With such a large volume of one class, there COULD be some training and testing sets in 10-fold cross validation that only have training data of ONE class, or a massive inbalance between the two binary classes. Therefore, the more proper separation of training and testing sets would be Stratified K-Fold cross validation so that you can guarantee that each training set retains the same ratio as the original dataset.\n",
    "\n",
    "\n",
    "___"
   ]
  },
  {
   "cell_type": "markdown",
   "metadata": {},
   "source": [
    "**Question 3:** Is the evaluation metric chosen in the above code appropriate for the dataset? Why or Why not?"
   ]
  },
  {
   "cell_type": "markdown",
   "metadata": {},
   "source": [
    "*Answer:*\n",
    "\n",
    "No. Using accuracy score will give you lots of false negatives because it is incentivized to give overall dataset accuracy, rather than something something more useful such as high accuracy in detecting the true positives. The classifier is useless in practice when predicting a low-likelihood event to occur, due to a poor evaluation criteria.\n",
    "\n",
    "Instead, we would want to use recall score because it limits the number of false negatives.\n",
    "___"
   ]
  },
  {
   "cell_type": "markdown",
   "metadata": {},
   "source": [
    "**Exercise 1:** If the code above is not a proper separation of the train or does not use the proper evaluation criteria, fix the code in the block below to use appropriate train/test separation and appropriate evaluation criterion (criteria). "
   ]
  },
  {
   "cell_type": "code",
   "execution_count": 29,
   "metadata": {
    "collapsed": false
   },
   "outputs": [
    {
     "data": {
      "text/plain": [
       "(0.9718181818181818, 1.0)"
      ]
     },
     "execution_count": 29,
     "metadata": {},
     "output_type": "execute_result"
    },
    {
     "data": {
      "image/png": "[encoded data removed]",
      "text/plain": [
       "<matplotlib.figure.Figure at 0x11bc50898>"
      ]
     },
     "metadata": {},
     "output_type": "display_data"
    }
   ],
   "source": [
    "from sklearn.model_selection import cross_val_score\n",
    "from sklearn.model_selection import KFold, ShuffleSplit\n",
    "from sklearn.model_selection import StratifiedKFold, StratifiedShuffleSplit\n",
    "\n",
    "from sklearn.metrics import make_scorer, accuracy_score\n",
    "from sklearn.metrics import precision_score, recall_score, f1_score\n",
    "\n",
    "from sklearn.linear_model import LogisticRegression\n",
    "# these imports above might help you\n",
    "\n",
    "#=====Write your code below here=================\n",
    "# select model\n",
    "clf = LogisticRegression()\n",
    "#select cross validation\n",
    "\n",
    "# Used StratifiedKFold instead\n",
    "cv = StratifiedKFold(n_splits=10)\n",
    "\n",
    "# select evaluation criteria\n",
    "my_scorer = make_scorer(recall_score)\n",
    "# run model training and cross validation\n",
    "per_fold_eval_criteria = cross_val_score(estimator=clf,\n",
    "                                    X=X,\n",
    "                                    y=y,\n",
    "                                    cv=cv,\n",
    "                                    scoring=my_scorer\n",
    "                                   )\n",
    "\n",
    "plt.bar(range(len(per_fold_eval_criteria)),per_fold_eval_criteria)\n",
    "plt.ylim([min(per_fold_eval_criteria)-0.01,max(per_fold_eval_criteria)])"
   ]
  },
  {
   "cell_type": "markdown",
   "metadata": {},
   "source": [
    "____\n",
    "**Question 4**: Does the learning algorithm perform well based on the evaluation criteria? Why or why not?"
   ]
  },
  {
   "cell_type": "markdown",
   "metadata": {},
   "source": [
    "*Answer: *\n",
    "\n",
    "In the real world application for this classification problem, and given the \"security\" domain of the dataset, the learning algorithm does not perform well based on our new evaluation criteria. Our new evaluation is stricter in that we are evaluating the performance based on the number of false negatives, which the learning algorithm does not perform as well at with our new criteria.\n",
    "\n",
    "\n",
    " \n",
    "\n",
    "\n",
    "___"
   ]
  },
  {
   "cell_type": "markdown",
   "metadata": {},
   "source": [
    "\n",
    "<a id=\"data_snooping\"></a>\n",
    "<a href=\"#top\">Back to Top</a>\n",
    "\n",
    "## More Cross Validation\n",
    "\n",
    "**Exercise 2:** Does the code below contain any errors in the implementation of the cross validation? If so, fix the code below.  "
   ]
  },
  {
   "cell_type": "code",
   "execution_count": 30,
   "metadata": {
    "collapsed": false
   },
   "outputs": [
    {
     "name": "stderr",
     "output_type": "stream",
     "text": [
      "/anaconda/lib/python3.6/site-packages/sklearn/utils/validation.py:429: DataConversionWarning: Data with input dtype object was converted to float64 by StandardScaler.\n",
      "  warnings.warn(msg, _DataConversionWarning)\n",
      "/anaconda/lib/python3.6/site-packages/sklearn/utils/validation.py:429: DataConversionWarning: Data with input dtype object was converted to float64 by StandardScaler.\n",
      "  warnings.warn(msg, _DataConversionWarning)\n",
      "/anaconda/lib/python3.6/site-packages/sklearn/utils/validation.py:429: DataConversionWarning: Data with input dtype object was converted to float64 by StandardScaler.\n",
      "  warnings.warn(msg, _DataConversionWarning)\n",
      "/anaconda/lib/python3.6/site-packages/sklearn/utils/validation.py:429: DataConversionWarning: Data with input dtype object was converted to float64 by StandardScaler.\n",
      "  warnings.warn(msg, _DataConversionWarning)\n",
      "/anaconda/lib/python3.6/site-packages/sklearn/utils/validation.py:429: DataConversionWarning: Data with input dtype object was converted to float64 by StandardScaler.\n",
      "  warnings.warn(msg, _DataConversionWarning)\n",
      "/anaconda/lib/python3.6/site-packages/sklearn/utils/validation.py:429: DataConversionWarning: Data with input dtype object was converted to float64 by StandardScaler.\n",
      "  warnings.warn(msg, _DataConversionWarning)\n",
      "/anaconda/lib/python3.6/site-packages/sklearn/utils/validation.py:429: DataConversionWarning: Data with input dtype object was converted to float64 by StandardScaler.\n",
      "  warnings.warn(msg, _DataConversionWarning)\n",
      "/anaconda/lib/python3.6/site-packages/sklearn/utils/validation.py:429: DataConversionWarning: Data with input dtype object was converted to float64 by StandardScaler.\n",
      "  warnings.warn(msg, _DataConversionWarning)\n",
      "/anaconda/lib/python3.6/site-packages/sklearn/utils/validation.py:429: DataConversionWarning: Data with input dtype object was converted to float64 by StandardScaler.\n",
      "  warnings.warn(msg, _DataConversionWarning)\n",
      "/anaconda/lib/python3.6/site-packages/sklearn/utils/validation.py:429: DataConversionWarning: Data with input dtype object was converted to float64 by StandardScaler.\n",
      "  warnings.warn(msg, _DataConversionWarning)\n"
     ]
    },
    {
     "data": {
      "text/plain": [
       "(0.81727272727272726, 1.0)"
      ]
     },
     "execution_count": 30,
     "metadata": {},
     "output_type": "execute_result"
    },
    {
     "data": {
      "image/png": "[encoded data removed]",
      "text/plain": [
       "<matplotlib.figure.Figure at 0x103b30ba8>"
      ]
     },
     "metadata": {},
     "output_type": "display_data"
    }
   ],
   "source": [
    "from sklearn.decomposition import PCA\n",
    "from sklearn.preprocessing import StandardScaler\n",
    "from sklearn.pipeline import Pipeline\n",
    "\n",
    "\n",
    "# #======If there are errors, fix them below======\n",
    "# n_components = 1\n",
    "# pca = PCA(n_components=n_components)\n",
    "# Xpca = pca.fit_transform(X)\n",
    "\n",
    "# clf = Pipeline([('scl',StandardScaler()),\n",
    "#                 ('clf',LogisticRegression())])\n",
    "\n",
    "# per_fold_eval_criteria = cross_val_score(estimator=clf,\n",
    "#                                     X=Xpca,\n",
    "#                                     y=y,\n",
    "#                                     cv=cv,\n",
    "#                                     scoring=my_scorer\n",
    "#                                    )\n",
    "\n",
    "# plt.bar(range(len(per_fold_eval_criteria)),per_fold_eval_criteria)\n",
    "# plt.ylim([min(per_fold_eval_criteria)-0.01,max(per_fold_eval_criteria)])\n",
    "\n",
    "# =====fixed code======\n",
    "# write the fixed code (if needed) below\n",
    "\n",
    "\n",
    "n_components = 1\n",
    "pca = PCA(n_components=n_components)\n",
    "#Xpca = pca.fit_transform(X)\n",
    "\n",
    "# ADDED PCA to pipeline\n",
    "\n",
    "clf = Pipeline([('scl',StandardScaler()),\n",
    "                ('pca', pca),\n",
    "                ('clf',LogisticRegression())])\n",
    "\n",
    "per_fold_eval_criteria = cross_val_score(estimator=clf,\n",
    "                                    X=X,\n",
    "                                    y=y,\n",
    "                                    cv=cv,\n",
    "                                    scoring=my_scorer\n",
    "                                   )\n",
    "\n",
    "plt.bar(range(len(per_fold_eval_criteria)),per_fold_eval_criteria)\n",
    "plt.ylim([min(per_fold_eval_criteria)-0.01,max(per_fold_eval_criteria)])\n"
   ]
  },
  {
   "cell_type": "markdown",
   "metadata": {},
   "source": [
    "___\n",
    "For this question, the circumstances for the DARPA KDD99 cup are changed in the following way:\n",
    "- When the model for detecting attacks is deployed, we now think that it will often need to be retrained.\n",
    "- DARPA anticipates that there will be a handful of different style attacks on their systems that have never been seen before. To detect these new attacks, they are employing programmers and analysts to find them manually every day. \n",
    "- DARPA believes the perpetrators of these new attacks are more sophisticated, so finding the new attacks will take priority over detecting the older, known attacks. \n",
    "- DARPA wants to use your learning algorithm for detecting only these new attacks, but the amount of training and testing data will be extremely small, because the analysts can only identify a handful of new style attacks each day.\n",
    "- DARPA asks you if you think its a good idea to employ retraining your model each day to find these new attacks.\n",
    "\n",
    "**Question 5**: How would you change the method of cross validation to answer this question from DARPA? That is, how can you change your cross validation method to better mirror how your system will be used and deployed by DARPA? "
   ]
  },
  {
   "cell_type": "markdown",
   "metadata": {},
   "source": [
    "*Enter you answer here (double click)*\n",
    "\n",
    "In this case, using stratified K-fold cross validation, like we were using before, would be inappropriate because there is no guarantee that there will be enough of the new data to have one new attack in each fold.\n",
    "\n",
    "Instead, we want to use StratifiedShuffleSplit because unlike K-fold, it will reuse the data once the data is shuffled. Because we have such a small number of instances of the new class, in order for the folds to be stratified, we'll need to reuse data to create a proper ratio between classes.\n",
    "___"
   ]
  },
  {
   "cell_type": "code",
   "execution_count": 31,
   "metadata": {
    "collapsed": true
   },
   "outputs": [],
   "source": [
    "#plotting function for use in next question\n",
    "# takes input 'test_scores', and an x-axis label\n",
    "def plot_filled(test_scores,train_x_axis, xlabel=''):\n",
    "    \n",
    "    test_mean = np.percentile(test_scores,50, axis=1)\n",
    "    test_max = np.percentile(test_scores,95, axis=1) \n",
    "    test_min = np.percentile(test_scores,5, axis=1) \n",
    "\n",
    "    plt.plot(train_x_axis, test_mean,\n",
    "             color='blue', linestyle='--',\n",
    "             marker='s', markersize=5,\n",
    "             label='validation set')\n",
    "\n",
    "    plt.fill_between(train_x_axis,\n",
    "                     test_min,\n",
    "                     test_max,\n",
    "                     alpha=0.15, color='blue')\n",
    "\n",
    "    plt.grid(True)\n",
    "    plt.xlabel(xlabel)\n",
    "    plt.ylabel('Evaluation Criterion')\n",
    "    plt.legend(loc='lower right')\n",
    "    plt.tight_layout()"
   ]
  },
  {
   "cell_type": "markdown",
   "metadata": {},
   "source": [
    "___\n",
    "DARPA is also concerned about how much training data they will need from the analysts in order to have a high performing model. They would like to use the current dataset to help answer that question. The code below is written for you to help answer DARPA's question about how many examples will be needed for training. Examine the code and then answer the following question:\n",
    "\n",
    "**Question 6**: Based on the analysis graphed below, how many positive examples are required to have a good tradeoff between bias and variance for the given evaluation criteria? Why?"
   ]
  },
  {
   "cell_type": "code",
   "execution_count": 34,
   "metadata": {
    "collapsed": false
   },
   "outputs": [
    {
     "data": {
      "image/png": "[encoded data removed]",
      "text/plain": [
       "<matplotlib.figure.Figure at 0x11bc50518>"
      ]
     },
     "metadata": {},
     "output_type": "display_data"
    }
   ],
   "source": [
    "clf = LogisticRegression()\n",
    "\n",
    "my_scorer = make_scorer(recall_score)\n",
    "\n",
    "test_scores = []\n",
    "train_sizes=np.linspace(5e-4,5e-3,10)\n",
    "\n",
    "for size in train_sizes:\n",
    "    cv = StratifiedShuffleSplit(n_splits=100,\n",
    "                                train_size = size,\n",
    "                                test_size = 1-size,\n",
    "                               )\n",
    "    test_scores.append(cross_val_score(estimator=clf,X=X,y=y,cv=cv,scoring=my_scorer))\n",
    "\n",
    "plot_filled(np.array(test_scores), train_sizes*100, 'Percentage training data (%)')"
   ]
  },
  {
   "cell_type": "code",
   "execution_count": 35,
   "metadata": {
    "collapsed": false
   },
   "outputs": [
    {
     "data": {
      "image/png": "[encoded data removed]",
      "text/plain": [
       "<matplotlib.figure.Figure at 0x11bd5c860>"
      ]
     },
     "metadata": {},
     "output_type": "display_data"
    }
   ],
   "source": [
    "clf = LogisticRegression()\n",
    "\n",
    "my_scorer = make_scorer(precision_score)\n",
    "\n",
    "test_scores = []\n",
    "train_sizes=np.linspace(5e-4,5e-3,10)\n",
    "\n",
    "for size in train_sizes:\n",
    "    cv = StratifiedShuffleSplit(n_splits=100,\n",
    "                                train_size = size,\n",
    "                                test_size = 1-size,\n",
    "                               )\n",
    "    test_scores.append(cross_val_score(estimator=clf,X=X,y=y,cv=cv,scoring=my_scorer))\n",
    "\n",
    "plot_filled(np.array(test_scores), train_sizes*100, 'Percentage training data (%)')"
   ]
  },
  {
   "cell_type": "code",
   "execution_count": 36,
   "metadata": {
    "collapsed": false
   },
   "outputs": [
    {
     "data": {
      "image/png": "[encoded data removed]",
      "text/plain": [
       "<matplotlib.figure.Figure at 0x1120fc518>"
      ]
     },
     "metadata": {},
     "output_type": "display_data"
    }
   ],
   "source": [
    "clf = LogisticRegression()\n",
    "\n",
    "my_scorer = make_scorer(f1_score)\n",
    "\n",
    "test_scores = []\n",
    "train_sizes=np.linspace(5e-4,5e-3,10)\n",
    "\n",
    "for size in train_sizes:\n",
    "    cv = StratifiedShuffleSplit(n_splits=100,\n",
    "                                train_size = size,\n",
    "                                test_size = 1-size,\n",
    "                               )\n",
    "    test_scores.append(cross_val_score(estimator=clf,X=X,y=y,cv=cv,scoring=my_scorer))\n",
    "\n",
    "plot_filled(np.array(test_scores), train_sizes*100, 'Percentage training data (%)')"
   ]
  },
  {
   "cell_type": "markdown",
   "metadata": {},
   "source": [
    "___\n",
    "*Answer: *\n",
    "\n",
    "\n",
    "\n",
    "By looking at the last graph above, we can see that at 0.45% of the training data, the learning algorithm on our dataset does the best using the f1 score evaluation criteria. This is because the f1 score criteria uses both recall and precision. Thus, a high score in f1 score is indicative of a good tradeoff between bias and variance.\n",
    "\n",
    "\n",
    "\n",
    "___"
   ]
  },
  {
   "cell_type": "markdown",
   "metadata": {},
   "source": [
    "___\n",
    "<a id=\"stats\"></a>\n",
    "<a href=\"#top\">Back to Top</a>\n",
    "\n",
    "# Statistical Comparison\n",
    "Now lets create a few different models and see if any of them have statistically better performances. \n",
    "\n",
    "We are creating three different classifiers below to compare to one another. For creating different training and testing splits, we are using stratified shuffle splits on the datasets. \n",
    "\n"
   ]
  },
  {
   "cell_type": "code",
   "execution_count": 39,
   "metadata": {
    "collapsed": false
   },
   "outputs": [
    {
     "name": "stdout",
     "output_type": "stream",
     "text": [
      "[ 0.98985801  0.92952381  0.98050639  0.93025228  0.98625197  0.92511569\n",
      "  0.92972058  0.92566856  0.92550505  0.92586352]\n",
      "[ 0.93019308  0.92911715  0.93664384  0.96195294  0.95690221  0.98225915\n",
      "  0.92951168  0.98181818  0.92832909  0.98247978]\n",
      "[ 0.0408      0.0409933   0.04256996  0.04178163  0.04255319  0.03401899\n",
      "  0.03947888  0.03431764  0.03494514  0.02490339]\n"
     ]
    }
   ],
   "source": [
    "clf1 = LogisticRegression(C=100)\n",
    "clf2 = LogisticRegression(C=1)\n",
    "clf3 = LogisticRegression(C=0.1)\n",
    "\n",
    "train_size = 0.003 # small training size\n",
    "cv = StratifiedShuffleSplit(n_splits=10,train_size=train_size,test_size=1-train_size)\n",
    "\n",
    "evals1 = cross_val_score(estimator=clf1,X=X,y=y,scoring=my_scorer,cv=cv)\n",
    "evals2 = cross_val_score(estimator=clf2,X=X,y=y,scoring=my_scorer,cv=cv)\n",
    "evals3 = cross_val_score(estimator=clf3,X=X,y=y,scoring=my_scorer,cv=cv)\n",
    "\n",
    "print(evals1)\n",
    "print(evals2)\n",
    "print(evals3)"
   ]
  },
  {
   "cell_type": "markdown",
   "metadata": {},
   "source": [
    "**Question 7**: Given the code above, what statistical test is more appropriate for selecting confidence intervals, and **why**? Your options are:\n",
    "- **A**: approximating the evaluation criterion as a binomial distribution and bounding by the variance (the first option we used in the flipped lecture video)\n",
    "- **B**: approximating the bounds using the folds of the cross validation to get mean and variance (the second option we used in the flipped lecture video)\n",
    "- **C**: Either are acceptable statistical tests for obtaining confidence intervals"
   ]
  },
  {
   "cell_type": "markdown",
   "metadata": {},
   "source": [
    "*Enter you answer here (double click)*\n",
    "\n",
    "*The reason that I think (A or B or C) is correct is because...*\n",
    "\n",
    "We believe that B is correct. Having a fold being an outlier is significant, and B takes the mean and variance of each fold of cross validation. By nature of the mean calcualtion, the mean is sensitive to outliers, and thus, outliers will be well represented by approximating the bounds with mean and variance. Furthermore, variance provides a feel for the distribution of accuracies between the folds. We would thus use the mean and variance technique for selecting our confidence intervals. \n",
    "___"
   ]
  },
  {
   "cell_type": "markdown",
   "metadata": {},
   "source": [
    "___\n",
    "**Final Exercise:** With 95% confidence, perform the statistical test that you selected above. Is any model or set of models statistically the best performer(s)? Or can we not say if the models are different with greater than 95% confidence?\n",
    "\n",
    "If you chose option A, use a multiplier of Z=1.96. The number of instances used in testing can be calculated from the variable `train_size`.\n",
    "\n",
    "If you chose option B, use a multiplier of t=2.26 and k=10."
   ]
  },
  {
   "cell_type": "code",
   "execution_count": 13,
   "metadata": {
    "collapsed": false
   },
   "outputs": [
    {
     "name": "stdout",
     "output_type": "stream",
     "text": [
      "Model ??? has statistically the best XXX with 95% confidence\n"
     ]
    }
   ],
   "source": [
    "#===================================================\n",
    "# Enter your code below\n",
    "\n",
    "\n",
    "\n",
    "print('Model ??? has statistically the best XXX with 95% confidence')\n",
    "#==================================================="
   ]
  },
  {
   "cell_type": "markdown",
   "metadata": {},
   "source": [
    "________________________________________________________________________________________________________\n",
    "\n",
    "That's all! Please **save (make sure you saved!!!) and upload your rendered notebook** and please include **team member names** in the notebook submission."
   ]
  }
 ],
 "metadata": {
  "anaconda-cloud": {},
  "kernelspec": {
   "display_name": "Python 3",
   "language": "python",
   "name": "python3"
  },
  "language_info": {
   "codemirror_mode": {
    "name": "ipython",
    "version": 3
   },
   "file_extension": ".py",
   "mimetype": "text/x-python",
   "name": "python",
   "nbconvert_exporter": "python",
   "pygments_lexer": "ipython3",
   "version": "3.6.1"
  }
 },
 "nbformat": 4,
 "nbformat_minor": 0
}
